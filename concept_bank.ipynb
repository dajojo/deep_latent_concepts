{
 "cells": [
  {
   "cell_type": "code",
   "execution_count": null,
   "metadata": {},
   "outputs": [],
   "source": [
    "%load_ext autoreload\n",
    "%autoreload 2\n",
    "\n",
    "import torch\n",
    "from backbones.meta_clip import MetaCLIP\n",
    "\n",
    "\n",
    "device = \"cuda\" if torch.cuda.is_available() else (\"mps\" if torch.backends.mps.is_available() else \"cpu\")\n",
    "device = \"cpu\"\n",
    "\n",
    "model = MetaCLIP(device = device)\n"
   ]
  },
  {
   "cell_type": "code",
   "execution_count": null,
   "metadata": {},
   "outputs": [],
   "source": [
    "### Build a concept bank from the Broden dataset and text encodings from MetaCLIP\n",
    "from build_concept_bank import build_concept_bank\n",
    "from concept_bank.concept_bank import ConceptBank\n",
    "\n",
    "build_concept_bank()\n",
    "\n",
    "concept_bank = ConceptBank(id=\"main\")\n",
    "for concept_space_name, concept_space_name in concept_bank.concept_spaces.items():\n",
    "    concept_space_name.plot_concepts_similarity()\n"
   ]
  },
  {
   "cell_type": "code",
   "execution_count": null,
   "metadata": {},
   "outputs": [],
   "source": [
    "### evaluate concept bank on broden dataset\n",
    "\n",
    "from eval_concept_bank import eval_concept_bank\n",
    "summary = eval_concept_bank(concept_bank=concept_bank,model=model, concept_set=\"Broden\")\n"
   ]
  },
  {
   "cell_type": "code",
   "execution_count": null,
   "metadata": {},
   "outputs": [],
   "source": [
    "## visualize results\n",
    "\n",
    "import matplotlib.pyplot as plt\n",
    "\n",
    "for concept_space_name, concept_space_summary in summary.items():\n",
    "    print(concept_space_name)\n",
    "    print(concept_bank.concept_spaces.keys())\n",
    "    \n",
    "    concept_space = concept_bank.concept_spaces[concept_space_name]\n",
    "    names = [concept for concept in concept_space.concepts.keys()]\n",
    "\n",
    "    print(concept_space_name)\n",
    "    plt.imshow(concept_space_summary[\"confusion_matrix\"])\n",
    "\n",
    "    plt.xticks(range(len(names)), names, rotation=90)\n",
    "    plt.yticks(range(len(names)), names)\n",
    "\n",
    "    plt.colorbar()\n",
    "    plt.show()\n"
   ]
  }
 ],
 "metadata": {
  "kernelspec": {
   "display_name": "deep_latent_concepts",
   "language": "python",
   "name": "python3"
  },
  "language_info": {
   "codemirror_mode": {
    "name": "ipython",
    "version": 3
   },
   "file_extension": ".py",
   "mimetype": "text/x-python",
   "name": "python",
   "nbconvert_exporter": "python",
   "pygments_lexer": "ipython3",
   "version": "3.11.7"
  }
 },
 "nbformat": 4,
 "nbformat_minor": 2
}
